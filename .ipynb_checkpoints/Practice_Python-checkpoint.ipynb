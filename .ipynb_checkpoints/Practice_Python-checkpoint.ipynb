{
 "cells": [
  {
   "cell_type": "code",
   "execution_count": 5,
   "id": "5becf46f",
   "metadata": {},
   "outputs": [
    {
     "name": "stdout",
     "output_type": "stream",
     "text": [
      "Hello Python\n"
     ]
    }
   ],
   "source": [
    "print('Hello Python')"
   ]
  },
  {
   "cell_type": "code",
   "execution_count": 6,
   "id": "2c6ad46c",
   "metadata": {},
   "outputs": [
    {
     "name": "stdout",
     "output_type": "stream",
     "text": [
      "UALR\n"
     ]
    }
   ],
   "source": [
    "name = 'UALR'\n",
    "\n",
    "print(name)"
   ]
  },
  {
   "cell_type": "code",
   "execution_count": 7,
   "id": "4c58f22b",
   "metadata": {},
   "outputs": [],
   "source": [
    "num1 = 105\n",
    "\n",
    "num2 = 105.5\n",
    "\n",
    "num3 = 0.958\n",
    "\n",
    "name = 'Mubbassher'"
   ]
  },
  {
   "cell_type": "code",
   "execution_count": 8,
   "id": "9fa15a0d",
   "metadata": {},
   "outputs": [
    {
     "data": {
      "text/plain": [
       "float"
      ]
     },
     "execution_count": 8,
     "metadata": {},
     "output_type": "execute_result"
    }
   ],
   "source": [
    "type(num3)"
   ]
  },
  {
   "cell_type": "code",
   "execution_count": 9,
   "id": "da81cbff",
   "metadata": {},
   "outputs": [
    {
     "data": {
      "text/plain": [
       "105"
      ]
     },
     "execution_count": 9,
     "metadata": {},
     "output_type": "execute_result"
    }
   ],
   "source": [
    "num1"
   ]
  },
  {
   "cell_type": "code",
   "execution_count": 10,
   "id": "fe7f6628",
   "metadata": {},
   "outputs": [
    {
     "data": {
      "text/plain": [
       "int"
      ]
     },
     "execution_count": 10,
     "metadata": {},
     "output_type": "execute_result"
    }
   ],
   "source": [
    "type(num1)"
   ]
  },
  {
   "cell_type": "code",
   "execution_count": 11,
   "id": "8fe6823b",
   "metadata": {},
   "outputs": [
    {
     "data": {
      "text/plain": [
       "int"
      ]
     },
     "execution_count": 11,
     "metadata": {},
     "output_type": "execute_result"
    }
   ],
   "source": [
    "type(num1)"
   ]
  },
  {
   "cell_type": "code",
   "execution_count": 12,
   "id": "94cb1d86",
   "metadata": {},
   "outputs": [],
   "source": [
    "# Conversion of Int to String (Type Casting)\n",
    "# Source is int || Target is String\n",
    "\n",
    "num1 = str(num1)"
   ]
  },
  {
   "cell_type": "code",
   "execution_count": 13,
   "id": "335fe501",
   "metadata": {},
   "outputs": [
    {
     "data": {
      "text/plain": [
       "str"
      ]
     },
     "execution_count": 13,
     "metadata": {},
     "output_type": "execute_result"
    }
   ],
   "source": [
    "type(num1)"
   ]
  },
  {
   "cell_type": "code",
   "execution_count": 14,
   "id": "573a0c67",
   "metadata": {},
   "outputs": [],
   "source": [
    "# Source is string target is integer\n",
    "\n",
    "num1 = int(num1)"
   ]
  },
  {
   "cell_type": "code",
   "execution_count": 15,
   "id": "e8743a95",
   "metadata": {},
   "outputs": [
    {
     "data": {
      "text/plain": [
       "int"
      ]
     },
     "execution_count": 15,
     "metadata": {},
     "output_type": "execute_result"
    }
   ],
   "source": [
    "type(num1)"
   ]
  },
  {
   "cell_type": "code",
   "execution_count": 16,
   "id": "ff5a60a8",
   "metadata": {},
   "outputs": [],
   "source": [
    "n1 = 109.5"
   ]
  },
  {
   "cell_type": "code",
   "execution_count": 17,
   "id": "314fe85c",
   "metadata": {},
   "outputs": [],
   "source": [
    "n1 = int(n1)"
   ]
  },
  {
   "cell_type": "code",
   "execution_count": 18,
   "id": "c317d753",
   "metadata": {},
   "outputs": [],
   "source": [
    "Year = 1993\n",
    "Month = 'June'\n",
    "Day = 23"
   ]
  },
  {
   "cell_type": "code",
   "execution_count": 19,
   "id": "3b76d251",
   "metadata": {},
   "outputs": [
    {
     "name": "stdout",
     "output_type": "stream",
     "text": [
      "1993June23\n"
     ]
    }
   ],
   "source": [
    "# YYYY/MM/DD\n",
    "\n",
    "print(str(Year)+Month+str(Day))\n",
    "\n",
    "# 1993/June/23"
   ]
  },
  {
   "cell_type": "code",
   "execution_count": 20,
   "id": "c698ab00",
   "metadata": {},
   "outputs": [
    {
     "ename": "ValueError",
     "evalue": "invalid literal for int() with base 10: 'June'",
     "output_type": "error",
     "traceback": [
      "\u001b[1;31m---------------------------------------------------------------------------\u001b[0m",
      "\u001b[1;31mValueError\u001b[0m                                Traceback (most recent call last)",
      "Input \u001b[1;32mIn [20]\u001b[0m, in \u001b[0;36m<cell line: 1>\u001b[1;34m()\u001b[0m\n\u001b[1;32m----> 1\u001b[0m \u001b[38;5;28mprint\u001b[39m(Year\u001b[38;5;241m+\u001b[39m\u001b[38;5;28;43mint\u001b[39;49m\u001b[43m(\u001b[49m\u001b[43mMonth\u001b[49m\u001b[43m)\u001b[49m\u001b[38;5;241m+\u001b[39mDay)\n",
      "\u001b[1;31mValueError\u001b[0m: invalid literal for int() with base 10: 'June'"
     ]
    }
   ],
   "source": [
    "print(Year+int(Month)+Day)"
   ]
  },
  {
   "cell_type": "code",
   "execution_count": 25,
   "id": "c9de396a",
   "metadata": {},
   "outputs": [
    {
     "ename": "ValueError",
     "evalue": "invalid literal for int() with base 10: 'June'",
     "output_type": "error",
     "traceback": [
      "\u001b[1;31m---------------------------------------------------------------------------\u001b[0m",
      "\u001b[1;31mValueError\u001b[0m                                Traceback (most recent call last)",
      "Input \u001b[1;32mIn [25]\u001b[0m, in \u001b[0;36m<cell line: 1>\u001b[1;34m()\u001b[0m\n\u001b[1;32m----> 1\u001b[0m \u001b[38;5;28;43mint\u001b[39;49m\u001b[43m(\u001b[49m\u001b[43mMonth\u001b[49m\u001b[43m)\u001b[49m\n",
      "\u001b[1;31mValueError\u001b[0m: invalid literal for int() with base 10: 'June'"
     ]
    }
   ],
   "source": [
    "int(Month)"
   ]
  },
  {
   "cell_type": "code",
   "execution_count": 32,
   "id": "770b8790",
   "metadata": {},
   "outputs": [
    {
     "name": "stdout",
     "output_type": "stream",
     "text": [
      "1993/June/23\n"
     ]
    }
   ],
   "source": [
    "print(str(Year)+'/'+Month+'/'+str(Day))"
   ]
  },
  {
   "cell_type": "markdown",
   "id": "64eb60e5",
   "metadata": {},
   "source": [
    "# Practicing Python 12-11-2022"
   ]
  },
  {
   "cell_type": "code",
   "execution_count": 46,
   "id": "426fb232",
   "metadata": {},
   "outputs": [
    {
     "name": "stdout",
     "output_type": "stream",
     "text": [
      "Please Enter Number of Hours\n",
      "450\n",
      "Employee's Salary =  4950\n"
     ]
    }
   ],
   "source": [
    "# Creating a Program to calculate salary based on hours.\n",
    "\n",
    "# Salary rate\n",
    "\n",
    "rate = 11\n",
    "\n",
    "print('Please Enter Number of Hours')\n",
    "\n",
    "num_of_hours = int(input())\n",
    "\n",
    "salary = rate*num_of_hours\n",
    "# Escape Sequence\n",
    "\n",
    "print(\"Employee's Salary = \",salary)"
   ]
  },
  {
   "cell_type": "markdown",
   "id": "e9889b4e",
   "metadata": {},
   "source": [
    "# Creating the Function"
   ]
  },
  {
   "cell_type": "code",
   "execution_count": 62,
   "id": "1638001c",
   "metadata": {},
   "outputs": [],
   "source": [
    "def salary_Calculation(num_of_hours,rate):\n",
    "    rate = rate\n",
    "    num_of_hours = num_of_hours\n",
    "    salary = rate*num_of_hours\n",
    "    return(salary)"
   ]
  },
  {
   "cell_type": "code",
   "execution_count": 63,
   "id": "e201d324",
   "metadata": {},
   "outputs": [
    {
     "name": "stdout",
     "output_type": "stream",
     "text": [
      "Please Enter Salary\n",
      "111\n"
     ]
    },
    {
     "ename": "TypeError",
     "evalue": "salary_Calculation() missing 1 required positional argument: 'rate'",
     "output_type": "error",
     "traceback": [
      "\u001b[1;31m---------------------------------------------------------------------------\u001b[0m",
      "\u001b[1;31mTypeError\u001b[0m                                 Traceback (most recent call last)",
      "Input \u001b[1;32mIn [63]\u001b[0m, in \u001b[0;36m<cell line: 9>\u001b[1;34m()\u001b[0m\n\u001b[0;32m      5\u001b[0m num_of_hours \u001b[38;5;241m=\u001b[39m \u001b[38;5;28mint\u001b[39m((\u001b[38;5;28minput\u001b[39m()))\n\u001b[0;32m      7\u001b[0m \u001b[38;5;66;03m## Output\u001b[39;00m\n\u001b[1;32m----> 9\u001b[0m \u001b[38;5;28mprint\u001b[39m(\u001b[38;5;124m'\u001b[39m\u001b[38;5;124mYour Salary is = \u001b[39m\u001b[38;5;124m'\u001b[39m,\u001b[43msalary_Calculation\u001b[49m\u001b[43m(\u001b[49m\u001b[43mnum_of_hours\u001b[49m\u001b[43m)\u001b[49m)\n",
      "\u001b[1;31mTypeError\u001b[0m: salary_Calculation() missing 1 required positional argument: 'rate'"
     ]
    }
   ],
   "source": [
    "## Input \n",
    "\n",
    "print(\"Please Enter Salary\")\n",
    "\n",
    "num_of_hours = int((input()))\n",
    "\n",
    "print(\"Please Enter Rate\")\n",
    "\n",
    "rate = int((input()))\n",
    "\n",
    "## Output\n",
    "\n",
    "print('Your Salary is = ',salary_Calculation(num_of_hours,rate))                   "
   ]
  },
  {
   "cell_type": "code",
   "execution_count": 58,
   "id": "6919a441",
   "metadata": {},
   "outputs": [
    {
     "data": {
      "text/plain": [
       "1210"
      ]
     },
     "execution_count": 58,
     "metadata": {},
     "output_type": "execute_result"
    }
   ],
   "source": [
    "salary_Calculation(110)"
   ]
  },
  {
   "cell_type": "code",
   "execution_count": null,
   "id": "6ef87685",
   "metadata": {},
   "outputs": [],
   "source": []
  }
 ],
 "metadata": {
  "kernelspec": {
   "display_name": "Python 3 (ipykernel)",
   "language": "python",
   "name": "python3"
  },
  "language_info": {
   "codemirror_mode": {
    "name": "ipython",
    "version": 3
   },
   "file_extension": ".py",
   "mimetype": "text/x-python",
   "name": "python",
   "nbconvert_exporter": "python",
   "pygments_lexer": "ipython3",
   "version": "3.9.12"
  }
 },
 "nbformat": 4,
 "nbformat_minor": 5
}
