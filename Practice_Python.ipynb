{
 "cells": [
  {
   "cell_type": "code",
   "execution_count": 5,
   "id": "5becf46f",
   "metadata": {},
   "outputs": [
    {
     "name": "stdout",
     "output_type": "stream",
     "text": [
      "Hello Python\n"
     ]
    }
   ],
   "source": [
    "print('Hello Python')"
   ]
  },
  {
   "cell_type": "code",
   "execution_count": 6,
   "id": "2c6ad46c",
   "metadata": {},
   "outputs": [
    {
     "name": "stdout",
     "output_type": "stream",
     "text": [
      "UALR\n"
     ]
    }
   ],
   "source": [
    "name = 'UALR'\n",
    "\n",
    "print(name)"
   ]
  },
  {
   "cell_type": "code",
   "execution_count": 7,
   "id": "4c58f22b",
   "metadata": {},
   "outputs": [],
   "source": [
    "num1 = 105\n",
    "\n",
    "num2 = 105.5\n",
    "\n",
    "num3 = 0.958\n",
    "\n",
    "name = 'Mubbassher'"
   ]
  },
  {
   "cell_type": "code",
   "execution_count": 8,
   "id": "9fa15a0d",
   "metadata": {},
   "outputs": [
    {
     "data": {
      "text/plain": [
       "float"
      ]
     },
     "execution_count": 8,
     "metadata": {},
     "output_type": "execute_result"
    }
   ],
   "source": [
    "type(num3)"
   ]
  },
  {
   "cell_type": "code",
   "execution_count": 9,
   "id": "da81cbff",
   "metadata": {},
   "outputs": [
    {
     "data": {
      "text/plain": [
       "105"
      ]
     },
     "execution_count": 9,
     "metadata": {},
     "output_type": "execute_result"
    }
   ],
   "source": [
    "num1"
   ]
  },
  {
   "cell_type": "code",
   "execution_count": 10,
   "id": "fe7f6628",
   "metadata": {},
   "outputs": [
    {
     "data": {
      "text/plain": [
       "int"
      ]
     },
     "execution_count": 10,
     "metadata": {},
     "output_type": "execute_result"
    }
   ],
   "source": [
    "type(num1)"
   ]
  },
  {
   "cell_type": "code",
   "execution_count": 11,
   "id": "8fe6823b",
   "metadata": {},
   "outputs": [
    {
     "data": {
      "text/plain": [
       "int"
      ]
     },
     "execution_count": 11,
     "metadata": {},
     "output_type": "execute_result"
    }
   ],
   "source": [
    "type(num1)"
   ]
  },
  {
   "cell_type": "code",
   "execution_count": 12,
   "id": "94cb1d86",
   "metadata": {},
   "outputs": [],
   "source": [
    "# Conversion of Int to String (Type Casting)\n",
    "# Source is int || Target is String\n",
    "\n",
    "num1 = str(num1)"
   ]
  },
  {
   "cell_type": "code",
   "execution_count": 13,
   "id": "335fe501",
   "metadata": {},
   "outputs": [
    {
     "data": {
      "text/plain": [
       "str"
      ]
     },
     "execution_count": 13,
     "metadata": {},
     "output_type": "execute_result"
    }
   ],
   "source": [
    "type(num1)"
   ]
  },
  {
   "cell_type": "code",
   "execution_count": 14,
   "id": "573a0c67",
   "metadata": {},
   "outputs": [],
   "source": [
    "# Source is string target is integer\n",
    "\n",
    "num1 = int(num1)"
   ]
  },
  {
   "cell_type": "code",
   "execution_count": 15,
   "id": "e8743a95",
   "metadata": {},
   "outputs": [
    {
     "data": {
      "text/plain": [
       "int"
      ]
     },
     "execution_count": 15,
     "metadata": {},
     "output_type": "execute_result"
    }
   ],
   "source": [
    "type(num1)"
   ]
  },
  {
   "cell_type": "code",
   "execution_count": 16,
   "id": "ff5a60a8",
   "metadata": {},
   "outputs": [],
   "source": [
    "n1 = 109.5"
   ]
  },
  {
   "cell_type": "code",
   "execution_count": 17,
   "id": "314fe85c",
   "metadata": {},
   "outputs": [],
   "source": [
    "n1 = int(n1)"
   ]
  },
  {
   "cell_type": "code",
   "execution_count": 18,
   "id": "c317d753",
   "metadata": {},
   "outputs": [],
   "source": [
    "Year = 1993\n",
    "Month = 'June'\n",
    "Day = 23"
   ]
  },
  {
   "cell_type": "code",
   "execution_count": 19,
   "id": "3b76d251",
   "metadata": {},
   "outputs": [
    {
     "name": "stdout",
     "output_type": "stream",
     "text": [
      "1993June23\n"
     ]
    }
   ],
   "source": [
    "# YYYY/MM/DD\n",
    "\n",
    "print(str(Year)+Month+str(Day))\n",
    "\n",
    "# 1993/June/23"
   ]
  },
  {
   "cell_type": "code",
   "execution_count": 20,
   "id": "c698ab00",
   "metadata": {},
   "outputs": [
    {
     "ename": "ValueError",
     "evalue": "invalid literal for int() with base 10: 'June'",
     "output_type": "error",
     "traceback": [
      "\u001b[1;31m---------------------------------------------------------------------------\u001b[0m",
      "\u001b[1;31mValueError\u001b[0m                                Traceback (most recent call last)",
      "Input \u001b[1;32mIn [20]\u001b[0m, in \u001b[0;36m<cell line: 1>\u001b[1;34m()\u001b[0m\n\u001b[1;32m----> 1\u001b[0m \u001b[38;5;28mprint\u001b[39m(Year\u001b[38;5;241m+\u001b[39m\u001b[38;5;28;43mint\u001b[39;49m\u001b[43m(\u001b[49m\u001b[43mMonth\u001b[49m\u001b[43m)\u001b[49m\u001b[38;5;241m+\u001b[39mDay)\n",
      "\u001b[1;31mValueError\u001b[0m: invalid literal for int() with base 10: 'June'"
     ]
    }
   ],
   "source": [
    "print(Year+int(Month)+Day)"
   ]
  },
  {
   "cell_type": "code",
   "execution_count": 25,
   "id": "c9de396a",
   "metadata": {},
   "outputs": [
    {
     "ename": "ValueError",
     "evalue": "invalid literal for int() with base 10: 'June'",
     "output_type": "error",
     "traceback": [
      "\u001b[1;31m---------------------------------------------------------------------------\u001b[0m",
      "\u001b[1;31mValueError\u001b[0m                                Traceback (most recent call last)",
      "Input \u001b[1;32mIn [25]\u001b[0m, in \u001b[0;36m<cell line: 1>\u001b[1;34m()\u001b[0m\n\u001b[1;32m----> 1\u001b[0m \u001b[38;5;28;43mint\u001b[39;49m\u001b[43m(\u001b[49m\u001b[43mMonth\u001b[49m\u001b[43m)\u001b[49m\n",
      "\u001b[1;31mValueError\u001b[0m: invalid literal for int() with base 10: 'June'"
     ]
    }
   ],
   "source": [
    "int(Month)"
   ]
  },
  {
   "cell_type": "code",
   "execution_count": 32,
   "id": "17163785",
   "metadata": {},
   "outputs": [
    {
     "name": "stdout",
     "output_type": "stream",
     "text": [
      "1993/June/23\n"
     ]
    }
   ],
   "source": [
    "print(str(Year)+'/'+Month+'/'+str(Day))"
   ]
  },
  {
   "cell_type": "markdown",
   "id": "c14cec0c",
   "metadata": {},
   "source": [
    "# Practicing Python 12-11-2022"
   ]
  },
  {
   "cell_type": "code",
   "execution_count": 46,
   "id": "c3ca082d",
   "metadata": {},
   "outputs": [
    {
     "name": "stdout",
     "output_type": "stream",
     "text": [
      "Please Enter Number of Hours\n",
      "450\n",
      "Employee's Salary =  4950\n"
     ]
    }
   ],
   "source": [
    "# Creating a Program to calculate salary based on hours.\n",
    "\n",
    "# Salary rate\n",
    "\n",
    "rate = 11\n",
    "\n",
    "print('Please Enter Number of Hours')\n",
    "\n",
    "num_of_hours = int(input())\n",
    "\n",
    "salary = rate*num_of_hours\n",
    "# Escape Sequence\n",
    "\n",
    "print(\"Employee's Salary = \",salary)"
   ]
  },
  {
   "cell_type": "markdown",
   "id": "8df04f1c",
   "metadata": {},
   "source": [
    "# Creating the Function"
   ]
  },
  {
   "cell_type": "code",
   "execution_count": 62,
   "id": "77105238",
   "metadata": {},
   "outputs": [],
   "source": [
    "def salary_Calculation(num_of_hours,rate):\n",
    "    rate = rate\n",
    "    num_of_hours = num_of_hours\n",
    "    salary = rate*num_of_hours\n",
    "    return(salary)"
   ]
  },
  {
   "cell_type": "code",
   "execution_count": 64,
   "id": "a55bf160",
   "metadata": {},
   "outputs": [
    {
     "name": "stdout",
     "output_type": "stream",
     "text": [
      "Please Enter Salary\n",
      "121\n",
      "Please Enter Rate\n",
      "13\n",
      "Your Salary is =  1573\n"
     ]
    }
   ],
   "source": [
    "## Input \n",
    "\n",
    "print(\"Please Enter Salary\")\n",
    "\n",
    "num_of_hours = int((input()))\n",
    "\n",
    "print(\"Please Enter Rate\")\n",
    "\n",
    "rate = int((input()))\n",
    "\n",
    "## Output\n",
    "\n",
    "print('Your Salary is = ',salary_Calculation(num_of_hours,rate))                   "
   ]
  },
  {
   "cell_type": "code",
   "execution_count": 58,
   "id": "fdb92c48",
   "metadata": {},
   "outputs": [
    {
     "data": {
      "text/plain": [
       "1210"
      ]
     },
     "execution_count": 58,
     "metadata": {},
     "output_type": "execute_result"
    }
   ],
   "source": [
    "salary_Calculation(110)"
   ]
  },
  {
   "cell_type": "code",
   "execution_count": 5,
   "id": "319428cf",
   "metadata": {},
   "outputs": [
    {
     "data": {
      "text/plain": [
       "bool"
      ]
     },
     "execution_count": 5,
     "metadata": {},
     "output_type": "execute_result"
    }
   ],
   "source": [
    "## Variables\n",
    "\n",
    "# Integer , String, Float, Boolean Already completed\n",
    "\n",
    "decision = True\n",
    "type(decision)"
   ]
  },
  {
   "cell_type": "code",
   "execution_count": 13,
   "id": "7b6e68d6",
   "metadata": {},
   "outputs": [
    {
     "name": "stdout",
     "output_type": "stream",
     "text": [
      "Value of I before Increment = 10\n",
      "Value of I after Increment = 0\n"
     ]
    }
   ],
   "source": [
    "# Lists/ Dictionary\n",
    "\n",
    "i = 10\n",
    "print('Value of I before Increment =',i)\n",
    "\n",
    "i-=10\n",
    "\n",
    "print('Value of I after Increment =',i)"
   ]
  },
  {
   "cell_type": "code",
   "execution_count": 37,
   "id": "afcdde65",
   "metadata": {},
   "outputs": [
    {
     "name": "stdout",
     "output_type": "stream",
     "text": [
      "No\n"
     ]
    }
   ],
   "source": [
    "## Comparison\n",
    "\n",
    "i = 10\n",
    "j = 20\n",
    "\n",
    "if(i<=j and j==i):\n",
    "    print('Yes')\n",
    "else:\n",
    "    print('No')"
   ]
  },
  {
   "cell_type": "code",
   "execution_count": 46,
   "id": "7be8e989",
   "metadata": {},
   "outputs": [],
   "source": [
    "name = \"Abdul\""
   ]
  },
  {
   "cell_type": "code",
   "execution_count": 47,
   "id": "2a8b69d6",
   "metadata": {},
   "outputs": [
    {
     "data": {
      "text/plain": [
       "5"
      ]
     },
     "execution_count": 47,
     "metadata": {},
     "output_type": "execute_result"
    }
   ],
   "source": [
    "len(name)"
   ]
  },
  {
   "cell_type": "code",
   "execution_count": 48,
   "id": "43a21144",
   "metadata": {},
   "outputs": [
    {
     "data": {
      "text/plain": [
       "'Abdul'"
      ]
     },
     "execution_count": 48,
     "metadata": {},
     "output_type": "execute_result"
    }
   ],
   "source": [
    "name[0:5]"
   ]
  },
  {
   "cell_type": "code",
   "execution_count": 49,
   "id": "19463e08",
   "metadata": {},
   "outputs": [
    {
     "data": {
      "text/plain": [
       "'du'"
      ]
     },
     "execution_count": 49,
     "metadata": {},
     "output_type": "execute_result"
    }
   ],
   "source": [
    "name[2:4]"
   ]
  },
  {
   "cell_type": "code",
   "execution_count": 86,
   "id": "ecdc1ddd",
   "metadata": {},
   "outputs": [
    {
     "data": {
      "text/plain": [
       "'bu'"
      ]
     },
     "execution_count": 86,
     "metadata": {},
     "output_type": "execute_result"
    }
   ],
   "source": [
    "# Syntax: slice(start, stop, step)\n",
    "\n",
    "name[1:5:2]"
   ]
  },
  {
   "cell_type": "code",
   "execution_count": 77,
   "id": "bb0efd07",
   "metadata": {},
   "outputs": [],
   "source": [
    "name1 = 'abdul Raheem'"
   ]
  },
  {
   "cell_type": "code",
   "execution_count": 78,
   "id": "4ed92093",
   "metadata": {},
   "outputs": [
    {
     "name": "stdout",
     "output_type": "stream",
     "text": [
      "abdul Raheem\n"
     ]
    }
   ],
   "source": [
    "print(name1)"
   ]
  },
  {
   "cell_type": "code",
   "execution_count": 79,
   "id": "859cee71",
   "metadata": {},
   "outputs": [
    {
     "data": {
      "text/plain": [
       "12"
      ]
     },
     "execution_count": 79,
     "metadata": {},
     "output_type": "execute_result"
    }
   ],
   "source": [
    "## Finding the length of the string\n",
    "len(name1)"
   ]
  },
  {
   "cell_type": "code",
   "execution_count": 80,
   "id": "d53704b2",
   "metadata": {},
   "outputs": [
    {
     "data": {
      "text/plain": [
       "2"
      ]
     },
     "execution_count": 80,
     "metadata": {},
     "output_type": "execute_result"
    }
   ],
   "source": [
    "## Find the number of occurance of a character in string\n",
    "name1.count('a')"
   ]
  },
  {
   "cell_type": "code",
   "execution_count": 83,
   "id": "5794cce1",
   "metadata": {},
   "outputs": [],
   "source": [
    "name1 = name1.capitalize()"
   ]
  },
  {
   "cell_type": "code",
   "execution_count": 84,
   "id": "7aad64d8",
   "metadata": {},
   "outputs": [
    {
     "data": {
      "text/plain": [
       "'Abdul raheem'"
      ]
     },
     "execution_count": 84,
     "metadata": {},
     "output_type": "execute_result"
    }
   ],
   "source": [
    "name1"
   ]
  },
  {
   "cell_type": "code",
   "execution_count": 85,
   "id": "2074b8cd",
   "metadata": {},
   "outputs": [
    {
     "data": {
      "text/plain": [
       "'em'"
      ]
     },
     "execution_count": 85,
     "metadata": {},
     "output_type": "execute_result"
    }
   ],
   "source": [
    "name1[name1.find('e'):name1.find('e')+len(name1)-1]"
   ]
  },
  {
   "cell_type": "code",
   "execution_count": 86,
   "id": "ec3e9a01",
   "metadata": {},
   "outputs": [
    {
     "data": {
      "text/plain": [
       "9"
      ]
     },
     "execution_count": 86,
     "metadata": {},
     "output_type": "execute_result"
    }
   ],
   "source": [
    "name1.find('e')"
   ]
  },
  {
   "cell_type": "code",
   "execution_count": 96,
   "id": "530b0a27",
   "metadata": {},
   "outputs": [],
   "source": [
    "name1 = name1.replace('Abdul Basith','Nemath Ali')"
   ]
  },
  {
   "cell_type": "code",
   "execution_count": 112,
   "id": "72c67d6d",
   "metadata": {},
   "outputs": [],
   "source": [
    "myphone = 'Abdul \\nBasith\\'s \\nIphone \\t\\t11'"
   ]
  },
  {
   "cell_type": "code",
   "execution_count": 113,
   "id": "f99f3af8",
   "metadata": {},
   "outputs": [
    {
     "name": "stdout",
     "output_type": "stream",
     "text": [
      "Abdul \n",
      "Basith's \n",
      "Iphone \t\t11\n"
     ]
    }
   ],
   "source": [
    "print(myphone)"
   ]
  },
  {
   "cell_type": "code",
   "execution_count": 145,
   "id": "aeb12d2f",
   "metadata": {},
   "outputs": [],
   "source": [
    "cigarete = ['newpot','Marlbor','Gandhi Beedi','Hooka Bar']"
   ]
  },
  {
   "cell_type": "code",
   "execution_count": 146,
   "id": "83e9c6c2",
   "metadata": {},
   "outputs": [
    {
     "data": {
      "text/plain": [
       "['newpot', 'Marlbor', 'Gandhi Beedi', 'Hooka Bar']"
      ]
     },
     "execution_count": 146,
     "metadata": {},
     "output_type": "execute_result"
    }
   ],
   "source": [
    "cigarete"
   ]
  },
  {
   "cell_type": "code",
   "execution_count": 147,
   "id": "43799e03",
   "metadata": {},
   "outputs": [
    {
     "data": {
      "text/plain": [
       "str"
      ]
     },
     "execution_count": 147,
     "metadata": {},
     "output_type": "execute_result"
    }
   ],
   "source": [
    "type(cigarete[0])"
   ]
  },
  {
   "cell_type": "code",
   "execution_count": 148,
   "id": "6564ae3f",
   "metadata": {},
   "outputs": [],
   "source": [
    "cigarete.sort() # Sorts by ascending"
   ]
  },
  {
   "cell_type": "code",
   "execution_count": 149,
   "id": "93f17f41",
   "metadata": {},
   "outputs": [
    {
     "data": {
      "text/plain": [
       "['Gandhi Beedi', 'Hooka Bar', 'Marlbor', 'newpot']"
      ]
     },
     "execution_count": 149,
     "metadata": {},
     "output_type": "execute_result"
    }
   ],
   "source": [
    "cigarete"
   ]
  },
  {
   "cell_type": "code",
   "execution_count": 150,
   "id": "411aa602",
   "metadata": {},
   "outputs": [],
   "source": [
    "cigarete.reverse() # Sorts by descending"
   ]
  },
  {
   "cell_type": "code",
   "execution_count": 151,
   "id": "86651157",
   "metadata": {},
   "outputs": [
    {
     "data": {
      "text/plain": [
       "['newpot', 'Marlbor', 'Hooka Bar', 'Gandhi Beedi']"
      ]
     },
     "execution_count": 151,
     "metadata": {},
     "output_type": "execute_result"
    }
   ],
   "source": [
    "cigarete"
   ]
  },
  {
   "cell_type": "code",
   "execution_count": 153,
   "id": "5e85e6ad",
   "metadata": {},
   "outputs": [],
   "source": [
    "cigarete.append('Katta Beedi')"
   ]
  },
  {
   "cell_type": "code",
   "execution_count": 154,
   "id": "d03c0890",
   "metadata": {},
   "outputs": [
    {
     "data": {
      "text/plain": [
       "['newpot', 'Marlbor', 'Hooka Bar', 'Gandhi Beedi', 'Katta Beedi']"
      ]
     },
     "execution_count": 154,
     "metadata": {},
     "output_type": "execute_result"
    }
   ],
   "source": [
    "cigarete"
   ]
  },
  {
   "cell_type": "code",
   "execution_count": 163,
   "id": "5a3f9ba8",
   "metadata": {},
   "outputs": [],
   "source": [
    "cigarete.insert(2,'Chota Gold Flake')"
   ]
  },
  {
   "cell_type": "code",
   "execution_count": 164,
   "id": "463a7d0d",
   "metadata": {},
   "outputs": [
    {
     "data": {
      "text/plain": [
       "['newpot',\n",
       " 'Marlbor',\n",
       " 'Chota Gold Flake',\n",
       " 'Hooka Bar',\n",
       " 'Gandhi Beedi',\n",
       " 'Katta Beedi']"
      ]
     },
     "execution_count": 164,
     "metadata": {},
     "output_type": "execute_result"
    }
   ],
   "source": [
    "cigarete"
   ]
  },
  {
   "cell_type": "code",
   "execution_count": 171,
   "id": "6f1c350e",
   "metadata": {},
   "outputs": [
    {
     "data": {
      "text/plain": [
       "'Gandhi Beedi'"
      ]
     },
     "execution_count": 171,
     "metadata": {},
     "output_type": "execute_result"
    }
   ],
   "source": [
    "cigarete.pop(1) # Removes using the index"
   ]
  },
  {
   "cell_type": "code",
   "execution_count": 180,
   "id": "8da2a74c",
   "metadata": {},
   "outputs": [
    {
     "data": {
      "text/plain": [
       "['newpot', 'Katta Beedi']"
      ]
     },
     "execution_count": 180,
     "metadata": {},
     "output_type": "execute_result"
    }
   ],
   "source": [
    "cigarete"
   ]
  },
  {
   "cell_type": "code",
   "execution_count": 182,
   "id": "239c480d",
   "metadata": {},
   "outputs": [
    {
     "name": "stdout",
     "output_type": "stream",
     "text": [
      "Help on list object:\n",
      "\n",
      "class list(object)\n",
      " |  list(iterable=(), /)\n",
      " |  \n",
      " |  Built-in mutable sequence.\n",
      " |  \n",
      " |  If no argument is given, the constructor creates a new empty list.\n",
      " |  The argument must be an iterable if specified.\n",
      " |  \n",
      " |  Methods defined here:\n",
      " |  \n",
      " |  __add__(self, value, /)\n",
      " |      Return self+value.\n",
      " |  \n",
      " |  __contains__(self, key, /)\n",
      " |      Return key in self.\n",
      " |  \n",
      " |  __delitem__(self, key, /)\n",
      " |      Delete self[key].\n",
      " |  \n",
      " |  __eq__(self, value, /)\n",
      " |      Return self==value.\n",
      " |  \n",
      " |  __ge__(self, value, /)\n",
      " |      Return self>=value.\n",
      " |  \n",
      " |  __getattribute__(self, name, /)\n",
      " |      Return getattr(self, name).\n",
      " |  \n",
      " |  __getitem__(...)\n",
      " |      x.__getitem__(y) <==> x[y]\n",
      " |  \n",
      " |  __gt__(self, value, /)\n",
      " |      Return self>value.\n",
      " |  \n",
      " |  __iadd__(self, value, /)\n",
      " |      Implement self+=value.\n",
      " |  \n",
      " |  __imul__(self, value, /)\n",
      " |      Implement self*=value.\n",
      " |  \n",
      " |  __init__(self, /, *args, **kwargs)\n",
      " |      Initialize self.  See help(type(self)) for accurate signature.\n",
      " |  \n",
      " |  __iter__(self, /)\n",
      " |      Implement iter(self).\n",
      " |  \n",
      " |  __le__(self, value, /)\n",
      " |      Return self<=value.\n",
      " |  \n",
      " |  __len__(self, /)\n",
      " |      Return len(self).\n",
      " |  \n",
      " |  __lt__(self, value, /)\n",
      " |      Return self<value.\n",
      " |  \n",
      " |  __mul__(self, value, /)\n",
      " |      Return self*value.\n",
      " |  \n",
      " |  __ne__(self, value, /)\n",
      " |      Return self!=value.\n",
      " |  \n",
      " |  __repr__(self, /)\n",
      " |      Return repr(self).\n",
      " |  \n",
      " |  __reversed__(self, /)\n",
      " |      Return a reverse iterator over the list.\n",
      " |  \n",
      " |  __rmul__(self, value, /)\n",
      " |      Return value*self.\n",
      " |  \n",
      " |  __setitem__(self, key, value, /)\n",
      " |      Set self[key] to value.\n",
      " |  \n",
      " |  __sizeof__(self, /)\n",
      " |      Return the size of the list in memory, in bytes.\n",
      " |  \n",
      " |  append(self, object, /)\n",
      " |      Append object to the end of the list.\n",
      " |  \n",
      " |  clear(self, /)\n",
      " |      Remove all items from list.\n",
      " |  \n",
      " |  copy(self, /)\n",
      " |      Return a shallow copy of the list.\n",
      " |  \n",
      " |  count(self, value, /)\n",
      " |      Return number of occurrences of value.\n",
      " |  \n",
      " |  extend(self, iterable, /)\n",
      " |      Extend list by appending elements from the iterable.\n",
      " |  \n",
      " |  index(self, value, start=0, stop=9223372036854775807, /)\n",
      " |      Return first index of value.\n",
      " |      \n",
      " |      Raises ValueError if the value is not present.\n",
      " |  \n",
      " |  insert(self, index, object, /)\n",
      " |      Insert object before index.\n",
      " |  \n",
      " |  pop(self, index=-1, /)\n",
      " |      Remove and return item at index (default last).\n",
      " |      \n",
      " |      Raises IndexError if list is empty or index is out of range.\n",
      " |  \n",
      " |  remove(self, value, /)\n",
      " |      Remove first occurrence of value.\n",
      " |      \n",
      " |      Raises ValueError if the value is not present.\n",
      " |  \n",
      " |  reverse(self, /)\n",
      " |      Reverse *IN PLACE*.\n",
      " |  \n",
      " |  sort(self, /, *, key=None, reverse=False)\n",
      " |      Sort the list in ascending order and return None.\n",
      " |      \n",
      " |      The sort is in-place (i.e. the list itself is modified) and stable (i.e. the\n",
      " |      order of two equal elements is maintained).\n",
      " |      \n",
      " |      If a key function is given, apply it once to each list item and sort them,\n",
      " |      ascending or descending, according to their function values.\n",
      " |      \n",
      " |      The reverse flag can be set to sort in descending order.\n",
      " |  \n",
      " |  ----------------------------------------------------------------------\n",
      " |  Class methods defined here:\n",
      " |  \n",
      " |  __class_getitem__(...) from builtins.type\n",
      " |      See PEP 585\n",
      " |  \n",
      " |  ----------------------------------------------------------------------\n",
      " |  Static methods defined here:\n",
      " |  \n",
      " |  __new__(*args, **kwargs) from builtins.type\n",
      " |      Create and return a new object.  See help(type) for accurate signature.\n",
      " |  \n",
      " |  ----------------------------------------------------------------------\n",
      " |  Data and other attributes defined here:\n",
      " |  \n",
      " |  __hash__ = None\n",
      "\n"
     ]
    }
   ],
   "source": [
    "help(cigarete)"
   ]
  },
  {
   "cell_type": "code",
   "execution_count": 183,
   "id": "d0cedc9c",
   "metadata": {},
   "outputs": [
    {
     "ename": "ValueError",
     "evalue": "list.remove(x): x not in list",
     "output_type": "error",
     "traceback": [
      "\u001b[1;31m---------------------------------------------------------------------------\u001b[0m",
      "\u001b[1;31mValueError\u001b[0m                                Traceback (most recent call last)",
      "Input \u001b[1;32mIn [183]\u001b[0m, in \u001b[0;36m<cell line: 1>\u001b[1;34m()\u001b[0m\n\u001b[1;32m----> 1\u001b[0m \u001b[43mcigarete\u001b[49m\u001b[38;5;241;43m.\u001b[39;49m\u001b[43mremove\u001b[49m\u001b[43m(\u001b[49m\u001b[38;5;124;43m'\u001b[39;49m\u001b[38;5;124;43mHooka Bar\u001b[39;49m\u001b[38;5;124;43m'\u001b[39;49m\u001b[43m)\u001b[49m\n",
      "\u001b[1;31mValueError\u001b[0m: list.remove(x): x not in list"
     ]
    }
   ],
   "source": [
    "cigarete.remove('Hooka Bar') # Removes using the string"
   ]
  },
  {
   "cell_type": "code",
   "execution_count": 185,
   "id": "054e4d40",
   "metadata": {},
   "outputs": [
    {
     "data": {
      "text/plain": [
       "['newpot', 'Katta Beedi']"
      ]
     },
     "execution_count": 185,
     "metadata": {},
     "output_type": "execute_result"
    }
   ],
   "source": [
    "cigarete"
   ]
  },
  {
   "cell_type": "code",
   "execution_count": 187,
   "id": "793ce308",
   "metadata": {},
   "outputs": [
    {
     "data": {
      "text/plain": [
       "0"
      ]
     },
     "execution_count": 187,
     "metadata": {},
     "output_type": "execute_result"
    }
   ],
   "source": [
    "cigarete.index('newpot')"
   ]
  },
  {
   "cell_type": "code",
   "execution_count": null,
   "id": "4551745d",
   "metadata": {},
   "outputs": [],
   "source": []
  }
 ],
 "metadata": {
  "kernelspec": {
   "display_name": "Python 3 (ipykernel)",
   "language": "python",
   "name": "python3"
  },
  "language_info": {
   "codemirror_mode": {
    "name": "ipython",
    "version": 3
   },
   "file_extension": ".py",
   "mimetype": "text/x-python",
   "name": "python",
   "nbconvert_exporter": "python",
   "pygments_lexer": "ipython3",
   "version": "3.9.12"
  }
 },
 "nbformat": 4,
 "nbformat_minor": 5
}
